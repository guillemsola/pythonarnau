{
  "nbformat": 4,
  "nbformat_minor": 0,
  "metadata": {
    "colab": {
      "provenance": [],
      "collapsed_sections": []
    },
    "kernelspec": {
      "name": "python3",
      "display_name": "Python 3"
    },
    "language_info": {
      "name": "python"
    }
  },
  "cells": [
    {
      "cell_type": "markdown",
      "source": [
        "Com mostrar un missatge fent servir Python"
      ],
      "metadata": {
        "id": "7xckePYMitVF"
      }
    },
    {
      "cell_type": "code",
      "execution_count": null,
      "metadata": {
        "id": "T_riEtLtiOZX"
      },
      "outputs": [],
      "source": [
        "print('hola')"
      ]
    },
    {
      "cell_type": "markdown",
      "source": [],
      "metadata": {
        "id": "_lgbVIpO_hLE"
      }
    },
    {
      "cell_type": "markdown",
      "source": [
        "Com executar un missatge 10 cops? Fem servir un bucle `for`. Important! els dos puntets `:` marquen un sub-block i el codi d'aquest te cuatre espais d'identacio\n",
        "\n"
      ],
      "metadata": {
        "id": "V3ei-K4jiyl3"
      }
    },
    {
      "cell_type": "code",
      "source": [
        "for x in range(0, 10):\n",
        "    print('hola')"
      ],
      "metadata": {
        "id": "jvyFL_K8i2z4"
      },
      "execution_count": null,
      "outputs": []
    },
    {
      "cell_type": "markdown",
      "source": [
        "Ara executem un missatge al final, important la indentacio, es a dir, els espais del principi. En cas contrari que pasaria? pots probar-ho"
      ],
      "metadata": {
        "id": "Gh3YmkWMj0ui"
      }
    },
    {
      "cell_type": "code",
      "source": [
        "for x in range(0, 10):\n",
        "    print('hola')\n",
        "print('adeu!!')"
      ],
      "metadata": {
        "id": "HdA4uTM8kCm0"
      },
      "execution_count": null,
      "outputs": []
    },
    {
      "cell_type": "markdown",
      "source": [
        "`x` es una variable, li podríem posar qualsevol nom, com per exemple `vegades`, per les vegades que s'executara el codi. Pregunta: que hi ha a `x` cada cop que s'executa?"
      ],
      "metadata": {
        "id": "j0mkm6Czn0TH"
      }
    },
    {
      "cell_type": "code",
      "source": [
        "for x in range(0, 10):\n",
        "    print(x)"
      ],
      "metadata": {
        "id": "267sHLpjocFe"
      },
      "execution_count": null,
      "outputs": []
    },
    {
      "cell_type": "markdown",
      "source": [
        "I com podem fer un número aleatori?\n",
        "Important! els números aleatoris, no són part del python bàsic, cal importar la llibreria que ens permet fer servir-los"
      ],
      "metadata": {
        "id": "PVR_bJOMpFc8"
      }
    },
    {
      "cell_type": "code",
      "source": [
        "import random\n",
        "\n",
        "numero=random.randint(0, 10)\n",
        "print(numero)"
      ],
      "metadata": {
        "colab": {
          "base_uri": "https://localhost:8080/"
        },
        "id": "KoxJFJMIpNtm",
        "outputId": "172bf223-b403-4af8-bdb4-35d138654dde"
      },
      "execution_count": null,
      "outputs": [
        {
          "output_type": "stream",
          "name": "stdout",
          "text": [
            "3\n"
          ]
        }
      ]
    },
    {
      "cell_type": "markdown",
      "source": [
        "I si volem preguntar a l'usuari alguna cosa com el seu nom?\n"
      ],
      "metadata": {
        "id": "04tiLbUN94co"
      }
    },
    {
      "cell_type": "code",
      "source": [
        "nom = input(\"Com et dius \")\n",
        "print(\"Hola \" + str(nom))"
      ],
      "metadata": {
        "id": "NP1Qs2a8-ABe"
      },
      "execution_count": null,
      "outputs": []
    },
    {
      "cell_type": "markdown",
      "source": [
        "I si ho posem tot junt, ja podem fer un joc! 🤡"
      ],
      "metadata": {
        "id": "3sktpHOWHSyh"
      }
    },
    {
      "cell_type": "code",
      "source": [
        "import random\n",
        "\n",
        "numero = random.randint(1, 100)\n",
        "intents = 1\n",
        "\n",
        "resposta = input(\"Tria un numero de 1 a 100 \")\n",
        "while(int(resposta) != numero):\n",
        "    if int(resposta) >= numero:\n",
        "        print(\"Massa gran\")\n",
        "    else:\n",
        "        print(\"Massa petit\")\n",
        "    intents = intents + 1\n",
        "    resposta = input(\"Tria un altre \")\n",
        "\n",
        "print(\"Molt be era \" + str(numero) + \"!!! ho has aconseguit en \" + str(intents) + \" intents\")"
      ],
      "metadata": {
        "id": "WEvM0c2VHFct"
      },
      "execution_count": null,
      "outputs": []
    }
  ]
}